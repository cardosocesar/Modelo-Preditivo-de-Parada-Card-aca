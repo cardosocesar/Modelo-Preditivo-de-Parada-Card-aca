{
 "cells": [
  {
   "cell_type": "markdown",
   "id": "3d24aeaa",
   "metadata": {
    "papermill": {
     "duration": 0.007135,
     "end_time": "2025-01-19T20:04:45.640003",
     "exception": false,
     "start_time": "2025-01-19T20:04:45.632868",
     "status": "completed"
    },
    "tags": []
   },
   "source": [
    "# Introdução #\n",
    "Neste notebook esta sendo abordado a a construção de um modele logistico a fim de prever a probabilidade de obito decorrido de paradas cardiacas, baseado em um dataset que simula riscos cardiacos para diferentes individuos, baseado em seus habitos e histórico de saude. São levados com consideração dados como sexo, idade, diabetes, anemia e etc. "
   ]
  },
  {
   "cell_type": "markdown",
   "id": "a0c12a63",
   "metadata": {
    "papermill": {
     "duration": 0.005478,
     "end_time": "2025-01-19T20:04:45.651022",
     "exception": false,
     "start_time": "2025-01-19T20:04:45.645544",
     "status": "completed"
    },
    "tags": []
   },
   "source": [
    "**Etapa de importação do dataset e importação das bibliotecas que serão usadas.**"
   ]
  },
  {
   "cell_type": "code",
   "execution_count": 1,
   "id": "0573870a",
   "metadata": {
    "execution": {
     "iopub.execute_input": "2025-01-19T20:04:45.662759Z",
     "iopub.status.busy": "2025-01-19T20:04:45.662405Z",
     "iopub.status.idle": "2025-01-19T20:04:46.927105Z",
     "shell.execute_reply": "2025-01-19T20:04:46.925758Z"
    },
    "papermill": {
     "duration": 1.272585,
     "end_time": "2025-01-19T20:04:46.928862",
     "exception": false,
     "start_time": "2025-01-19T20:04:45.656277",
     "status": "completed"
    },
    "tags": []
   },
   "outputs": [
    {
     "name": "stdout",
     "output_type": "stream",
     "text": [
      "Path to dataset files: /kaggle/input/heart-failure-clinical-data\n"
     ]
    }
   ],
   "source": [
    "#Importação do dataset\n",
    "import kagglehub\n",
    "\n",
    "# Download latest version\n",
    "path = kagglehub.dataset_download(\"andrewmvd/heart-failure-clinical-data\")\n",
    "\n",
    "print(\"Path to dataset files:\", path)"
   ]
  },
  {
   "cell_type": "code",
   "execution_count": 2,
   "id": "7cbaec14",
   "metadata": {
    "execution": {
     "iopub.execute_input": "2025-01-19T20:04:46.940905Z",
     "iopub.status.busy": "2025-01-19T20:04:46.940568Z",
     "iopub.status.idle": "2025-01-19T20:04:49.861388Z",
     "shell.execute_reply": "2025-01-19T20:04:49.860441Z"
    },
    "papermill": {
     "duration": 2.928821,
     "end_time": "2025-01-19T20:04:49.863286",
     "exception": false,
     "start_time": "2025-01-19T20:04:46.934465",
     "status": "completed"
    },
    "tags": []
   },
   "outputs": [],
   "source": [
    "#Importação das bibliotecas\n",
    "\n",
    "import sklearn\n",
    "import numpy as np\n",
    "import pandas as pd\n",
    "import seaborn as sns\n",
    "import matplotlib.pyplot as plt\n",
    "from sklearn.linear_model import LogisticRegression\n",
    "from sklearn.metrics import accuracy_score, f1_score, roc_auc_score\n",
    "from sklearn.model_selection import train_test_split"
   ]
  },
  {
   "cell_type": "code",
   "execution_count": 3,
   "id": "9dcff7a3",
   "metadata": {
    "execution": {
     "iopub.execute_input": "2025-01-19T20:04:49.875778Z",
     "iopub.status.busy": "2025-01-19T20:04:49.875260Z",
     "iopub.status.idle": "2025-01-19T20:04:49.901084Z",
     "shell.execute_reply": "2025-01-19T20:04:49.900259Z"
    },
    "papermill": {
     "duration": 0.033839,
     "end_time": "2025-01-19T20:04:49.902842",
     "exception": false,
     "start_time": "2025-01-19T20:04:49.869003",
     "status": "completed"
    },
    "tags": []
   },
   "outputs": [],
   "source": [
    "heart_failure_df=pd.read_csv('/kaggle/input/heart-failure-clinical-data/heart_failure_clinical_records_dataset.csv')"
   ]
  },
  {
   "cell_type": "code",
   "execution_count": 4,
   "id": "f1e3f901",
   "metadata": {
    "execution": {
     "iopub.execute_input": "2025-01-19T20:04:49.914853Z",
     "iopub.status.busy": "2025-01-19T20:04:49.914511Z",
     "iopub.status.idle": "2025-01-19T20:04:49.942915Z",
     "shell.execute_reply": "2025-01-19T20:04:49.941852Z"
    },
    "papermill": {
     "duration": 0.036347,
     "end_time": "2025-01-19T20:04:49.944678",
     "exception": false,
     "start_time": "2025-01-19T20:04:49.908331",
     "status": "completed"
    },
    "tags": []
   },
   "outputs": [
    {
     "data": {
      "text/html": [
       "<div>\n",
       "<style scoped>\n",
       "    .dataframe tbody tr th:only-of-type {\n",
       "        vertical-align: middle;\n",
       "    }\n",
       "\n",
       "    .dataframe tbody tr th {\n",
       "        vertical-align: top;\n",
       "    }\n",
       "\n",
       "    .dataframe thead th {\n",
       "        text-align: right;\n",
       "    }\n",
       "</style>\n",
       "<table border=\"1\" class=\"dataframe\">\n",
       "  <thead>\n",
       "    <tr style=\"text-align: right;\">\n",
       "      <th></th>\n",
       "      <th>age</th>\n",
       "      <th>anaemia</th>\n",
       "      <th>creatinine_phosphokinase</th>\n",
       "      <th>diabetes</th>\n",
       "      <th>ejection_fraction</th>\n",
       "      <th>high_blood_pressure</th>\n",
       "      <th>platelets</th>\n",
       "      <th>serum_creatinine</th>\n",
       "      <th>serum_sodium</th>\n",
       "      <th>sex</th>\n",
       "      <th>smoking</th>\n",
       "      <th>time</th>\n",
       "      <th>DEATH_EVENT</th>\n",
       "    </tr>\n",
       "  </thead>\n",
       "  <tbody>\n",
       "    <tr>\n",
       "      <th>0</th>\n",
       "      <td>75.0</td>\n",
       "      <td>0</td>\n",
       "      <td>582</td>\n",
       "      <td>0</td>\n",
       "      <td>20</td>\n",
       "      <td>1</td>\n",
       "      <td>265000.00</td>\n",
       "      <td>1.9</td>\n",
       "      <td>130</td>\n",
       "      <td>1</td>\n",
       "      <td>0</td>\n",
       "      <td>4</td>\n",
       "      <td>1</td>\n",
       "    </tr>\n",
       "    <tr>\n",
       "      <th>1</th>\n",
       "      <td>55.0</td>\n",
       "      <td>0</td>\n",
       "      <td>7861</td>\n",
       "      <td>0</td>\n",
       "      <td>38</td>\n",
       "      <td>0</td>\n",
       "      <td>263358.03</td>\n",
       "      <td>1.1</td>\n",
       "      <td>136</td>\n",
       "      <td>1</td>\n",
       "      <td>0</td>\n",
       "      <td>6</td>\n",
       "      <td>1</td>\n",
       "    </tr>\n",
       "    <tr>\n",
       "      <th>2</th>\n",
       "      <td>65.0</td>\n",
       "      <td>0</td>\n",
       "      <td>146</td>\n",
       "      <td>0</td>\n",
       "      <td>20</td>\n",
       "      <td>0</td>\n",
       "      <td>162000.00</td>\n",
       "      <td>1.3</td>\n",
       "      <td>129</td>\n",
       "      <td>1</td>\n",
       "      <td>1</td>\n",
       "      <td>7</td>\n",
       "      <td>1</td>\n",
       "    </tr>\n",
       "    <tr>\n",
       "      <th>3</th>\n",
       "      <td>50.0</td>\n",
       "      <td>1</td>\n",
       "      <td>111</td>\n",
       "      <td>0</td>\n",
       "      <td>20</td>\n",
       "      <td>0</td>\n",
       "      <td>210000.00</td>\n",
       "      <td>1.9</td>\n",
       "      <td>137</td>\n",
       "      <td>1</td>\n",
       "      <td>0</td>\n",
       "      <td>7</td>\n",
       "      <td>1</td>\n",
       "    </tr>\n",
       "    <tr>\n",
       "      <th>4</th>\n",
       "      <td>65.0</td>\n",
       "      <td>1</td>\n",
       "      <td>160</td>\n",
       "      <td>1</td>\n",
       "      <td>20</td>\n",
       "      <td>0</td>\n",
       "      <td>327000.00</td>\n",
       "      <td>2.7</td>\n",
       "      <td>116</td>\n",
       "      <td>0</td>\n",
       "      <td>0</td>\n",
       "      <td>8</td>\n",
       "      <td>1</td>\n",
       "    </tr>\n",
       "  </tbody>\n",
       "</table>\n",
       "</div>"
      ],
      "text/plain": [
       "    age  anaemia  creatinine_phosphokinase  diabetes  ejection_fraction  \\\n",
       "0  75.0        0                       582         0                 20   \n",
       "1  55.0        0                      7861         0                 38   \n",
       "2  65.0        0                       146         0                 20   \n",
       "3  50.0        1                       111         0                 20   \n",
       "4  65.0        1                       160         1                 20   \n",
       "\n",
       "   high_blood_pressure  platelets  serum_creatinine  serum_sodium  sex  \\\n",
       "0                    1  265000.00               1.9           130    1   \n",
       "1                    0  263358.03               1.1           136    1   \n",
       "2                    0  162000.00               1.3           129    1   \n",
       "3                    0  210000.00               1.9           137    1   \n",
       "4                    0  327000.00               2.7           116    0   \n",
       "\n",
       "   smoking  time  DEATH_EVENT  \n",
       "0        0     4            1  \n",
       "1        0     6            1  \n",
       "2        1     7            1  \n",
       "3        0     7            1  \n",
       "4        0     8            1  "
      ]
     },
     "execution_count": 4,
     "metadata": {},
     "output_type": "execute_result"
    }
   ],
   "source": [
    "heart_failure_df.head()"
   ]
  },
  {
   "cell_type": "code",
   "execution_count": 5,
   "id": "f09e4933",
   "metadata": {
    "execution": {
     "iopub.execute_input": "2025-01-19T20:04:49.961332Z",
     "iopub.status.busy": "2025-01-19T20:04:49.960981Z",
     "iopub.status.idle": "2025-01-19T20:04:49.966728Z",
     "shell.execute_reply": "2025-01-19T20:04:49.965938Z"
    },
    "papermill": {
     "duration": 0.01468,
     "end_time": "2025-01-19T20:04:49.968295",
     "exception": false,
     "start_time": "2025-01-19T20:04:49.953615",
     "status": "completed"
    },
    "tags": []
   },
   "outputs": [
    {
     "data": {
      "text/plain": [
       "Index(['age', 'anaemia', 'creatinine_phosphokinase', 'diabetes',\n",
       "       'ejection_fraction', 'high_blood_pressure', 'platelets',\n",
       "       'serum_creatinine', 'serum_sodium', 'sex', 'smoking', 'time',\n",
       "       'DEATH_EVENT'],\n",
       "      dtype='object')"
      ]
     },
     "execution_count": 5,
     "metadata": {},
     "output_type": "execute_result"
    }
   ],
   "source": [
    "heart_failure_df.columns"
   ]
  },
  {
   "cell_type": "markdown",
   "id": "5e306946",
   "metadata": {
    "papermill": {
     "duration": 0.005299,
     "end_time": "2025-01-19T20:04:49.979918",
     "exception": false,
     "start_time": "2025-01-19T20:04:49.974619",
     "status": "completed"
    },
    "tags": []
   },
   "source": [
    "**No código abaixo estou pré tratando algumas columas e retirando os valores nulos.**"
   ]
  },
  {
   "cell_type": "code",
   "execution_count": 6,
   "id": "823ba1c5",
   "metadata": {
    "execution": {
     "iopub.execute_input": "2025-01-19T20:04:49.992015Z",
     "iopub.status.busy": "2025-01-19T20:04:49.991642Z",
     "iopub.status.idle": "2025-01-19T20:04:50.010841Z",
     "shell.execute_reply": "2025-01-19T20:04:50.009961Z"
    },
    "papermill": {
     "duration": 0.027034,
     "end_time": "2025-01-19T20:04:50.012415",
     "exception": false,
     "start_time": "2025-01-19T20:04:49.985381",
     "status": "completed"
    },
    "tags": []
   },
   "outputs": [],
   "source": [
    "heart_failure_df['CPK']=heart_failure_df['creatinine_phosphokinase']\n",
    "heart_failure_df['FE']=heart_failure_df['ejection_fraction']\n",
    "heart_failure_df['pressure']=heart_failure_df['high_blood_pressure']\n",
    "heart_failure_df['DEATH']=heart_failure_df['DEATH_EVENT']\n",
    "heart_failure_df=heart_failure_df.drop(['creatinine_phosphokinase','ejection_fraction','high_blood_pressure','DEATH_EVENT'], axis=1)\n",
    "heart_failure_df=heart_failure_df.dropna(axis=0)\n"
   ]
  },
  {
   "cell_type": "markdown",
   "id": "9be33767",
   "metadata": {
    "papermill": {
     "duration": 0.005162,
     "end_time": "2025-01-19T20:04:50.023424",
     "exception": false,
     "start_time": "2025-01-19T20:04:50.018262",
     "status": "completed"
    },
    "tags": []
   },
   "source": [
    "## Pré analise\n",
    "Com auxilio da bibliotéca Seaborn é foi possivel montar este gráfico de mapa de calor para obter uma matriz de correlação das variáveis para que fosse possivel obter uma overview das variáveis. \n"
   ]
  },
  {
   "cell_type": "code",
   "execution_count": 7,
   "id": "c7190765",
   "metadata": {
    "execution": {
     "iopub.execute_input": "2025-01-19T20:04:50.035694Z",
     "iopub.status.busy": "2025-01-19T20:04:50.035325Z",
     "iopub.status.idle": "2025-01-19T20:04:50.902104Z",
     "shell.execute_reply": "2025-01-19T20:04:50.901019Z"
    },
    "papermill": {
     "duration": 0.876821,
     "end_time": "2025-01-19T20:04:50.905821",
     "exception": false,
     "start_time": "2025-01-19T20:04:50.029000",
     "status": "completed"
    },
    "tags": []
   },
   "outputs": [
    {
     "data": {
      "image/png": "[encoded data removed]",
      "text/plain": [
       "<Figure size 1000x800 with 2 Axes>"
      ]
     },
     "metadata": {},
     "output_type": "display_data"
    }
   ],
   "source": [
    "corr = heart_failure_df.corr()\n",
    "plt.figure(figsize=(10, 8))\n",
    "sns.heatmap(corr, annot=True, cmap=\"coolwarm\", fmt=\".2f\", linewidths=0.5)\n",
    "plt.title(\"Matriz de Correlação das Variáveis\")\n",
    "plt.show()"
   ]
  },
  {
   "cell_type": "markdown",
   "id": "c2657f33",
   "metadata": {
    "papermill": {
     "duration": 0.009149,
     "end_time": "2025-01-19T20:04:50.924562",
     "exception": false,
     "start_time": "2025-01-19T20:04:50.915413",
     "status": "completed"
    },
    "tags": []
   },
   "source": [
    "**Normalizando as variáveis.**"
   ]
  },
  {
   "cell_type": "code",
   "execution_count": 8,
   "id": "b4062749",
   "metadata": {
    "execution": {
     "iopub.execute_input": "2025-01-19T20:04:50.943289Z",
     "iopub.status.busy": "2025-01-19T20:04:50.942949Z",
     "iopub.status.idle": "2025-01-19T20:04:50.957330Z",
     "shell.execute_reply": "2025-01-19T20:04:50.956497Z"
    },
    "papermill": {
     "duration": 0.025692,
     "end_time": "2025-01-19T20:04:50.959022",
     "exception": false,
     "start_time": "2025-01-19T20:04:50.933330",
     "status": "completed"
    },
    "tags": []
   },
   "outputs": [],
   "source": [
    "media_1 = heart_failure_df['age'].mean()\n",
    "desvio_padrao_1 = heart_failure_df['age'].std()\n",
    "heart_failure_df['age'] = heart_failure_df['age'].apply(lambda x: (x - media_1) / desvio_padrao_1)\n",
    "\n",
    "media_2 = heart_failure_df['CPK'].mean()\n",
    "desvio_padrao_2 = heart_failure_df['CPK'].std()\n",
    "heart_failure_df['CPK'] = heart_failure_df['CPK'].apply(lambda x: (x - media_2) / desvio_padrao_2)\n",
    "\n",
    "media_3 = heart_failure_df['FE'].mean()\n",
    "desvio_padrao_3 = heart_failure_df['FE'].std()\n",
    "heart_failure_df['FE'] = heart_failure_df['FE'].apply(lambda x: (x - media_3) / desvio_padrao_3)\n",
    "\n",
    "media_4 = heart_failure_df['platelets'].mean()\n",
    "desvio_padrao_4 = heart_failure_df['platelets'].std()\n",
    "heart_failure_df['platelets'] = heart_failure_df['platelets'].apply(lambda x: (x - media_4) / desvio_padrao_4)\n",
    "\n",
    "media_5 = heart_failure_df['serum_creatinine'].mean()\n",
    "desvio_padrao_5 = heart_failure_df['serum_creatinine'].std()\n",
    "heart_failure_df['serum_creatinine'] = heart_failure_df['serum_creatinine'].apply(lambda x: (x - media_5) / desvio_padrao_5)\n",
    "\n",
    "media_6 = heart_failure_df['serum_sodium'].mean()\n",
    "desvio_padrao_6 = heart_failure_df['serum_sodium'].std()\n",
    "heart_failure_df['serum_sodium'] = heart_failure_df['serum_sodium'].apply(lambda x: (x - media_6) / desvio_padrao_6)\n",
    "\n",
    "media_7 = heart_failure_df['time'].mean()\n",
    "desvio_padrao_7 = heart_failure_df['time'].std()\n",
    "heart_failure_df['time'] = heart_failure_df['time'].apply(lambda x: (x - media_7) / desvio_padrao_7)\n"
   ]
  },
  {
   "cell_type": "code",
   "execution_count": 9,
   "id": "f99aa8a6",
   "metadata": {
    "execution": {
     "iopub.execute_input": "2025-01-19T20:04:50.978803Z",
     "iopub.status.busy": "2025-01-19T20:04:50.978476Z",
     "iopub.status.idle": "2025-01-19T20:04:50.994194Z",
     "shell.execute_reply": "2025-01-19T20:04:50.993293Z"
    },
    "papermill": {
     "duration": 0.027486,
     "end_time": "2025-01-19T20:04:50.995800",
     "exception": false,
     "start_time": "2025-01-19T20:04:50.968314",
     "status": "completed"
    },
    "tags": []
   },
   "outputs": [],
   "source": [
    "heart_failure_df['male'] = heart_failure_df['sex'].apply(lambda x: 1 if x == 1 else 0)\n",
    "heart_failure_df['female'] = heart_failure_df['sex'].apply(lambda x: 1 if x == 0 else 0)\n",
    "\n",
    "heart_failure_df['c_anaemia'] = heart_failure_df['anaemia'].apply(lambda x: 1 if x == 1 else 0)\n",
    "heart_failure_df['s_anaemia'] = heart_failure_df['anaemia'].apply(lambda x: 0 if x == 1 else 1)\n",
    "\n",
    "heart_failure_df['c_diabetes'] = heart_failure_df['diabetes'].apply(lambda x: 1 if x == 1 else 0)\n",
    "heart_failure_df['s_diabetes'] = heart_failure_df['diabetes'].apply(lambda x: 0 if x == 1 else 1)\n",
    "\n",
    "heart_failure_df['c_smoking'] = heart_failure_df['smoking'].apply(lambda x: 1 if x == 1 else 0)\n",
    "heart_failure_df['s_smoking'] = heart_failure_df['smoking'].apply(lambda x: 0 if x == 1 else 1)\n",
    "\n",
    "heart_failure_df['c_pressure'] = heart_failure_df['pressure'].apply(lambda x: 1 if x == 1 else 0)\n",
    "heart_failure_df['s_pressure'] = heart_failure_df['pressure'].apply(lambda x: 0 if x == 1 else 1)\n",
    "heart_failure_df=heart_failure_df.drop(['sex', 'pressure','anaemia', 'diabetes','smoking'], axis=1)"
   ]
  },
  {
   "cell_type": "code",
   "execution_count": 10,
   "id": "ef15cd33",
   "metadata": {
    "execution": {
     "iopub.execute_input": "2025-01-19T20:04:51.015185Z",
     "iopub.status.busy": "2025-01-19T20:04:51.014821Z",
     "iopub.status.idle": "2025-01-19T20:04:51.033368Z",
     "shell.execute_reply": "2025-01-19T20:04:51.032323Z"
    },
    "papermill": {
     "duration": 0.03012,
     "end_time": "2025-01-19T20:04:51.035030",
     "exception": false,
     "start_time": "2025-01-19T20:04:51.004910",
     "status": "completed"
    },
    "tags": []
   },
   "outputs": [
    {
     "data": {
      "text/html": [
       "<div>\n",
       "<style scoped>\n",
       "    .dataframe tbody tr th:only-of-type {\n",
       "        vertical-align: middle;\n",
       "    }\n",
       "\n",
       "    .dataframe tbody tr th {\n",
       "        vertical-align: top;\n",
       "    }\n",
       "\n",
       "    .dataframe thead th {\n",
       "        text-align: right;\n",
       "    }\n",
       "</style>\n",
       "<table border=\"1\" class=\"dataframe\">\n",
       "  <thead>\n",
       "    <tr style=\"text-align: right;\">\n",
       "      <th></th>\n",
       "      <th>age</th>\n",
       "      <th>platelets</th>\n",
       "      <th>serum_creatinine</th>\n",
       "      <th>serum_sodium</th>\n",
       "      <th>time</th>\n",
       "      <th>CPK</th>\n",
       "      <th>FE</th>\n",
       "      <th>DEATH</th>\n",
       "      <th>male</th>\n",
       "      <th>female</th>\n",
       "      <th>c_anaemia</th>\n",
       "      <th>s_anaemia</th>\n",
       "      <th>c_diabetes</th>\n",
       "      <th>s_diabetes</th>\n",
       "      <th>c_smoking</th>\n",
       "      <th>s_smoking</th>\n",
       "      <th>c_pressure</th>\n",
       "      <th>s_pressure</th>\n",
       "    </tr>\n",
       "  </thead>\n",
       "  <tbody>\n",
       "    <tr>\n",
       "      <th>0</th>\n",
       "      <td>1.190949</td>\n",
       "      <td>1.678834e-02</td>\n",
       "      <td>0.489237</td>\n",
       "      <td>-1.501519</td>\n",
       "      <td>-1.626775</td>\n",
       "      <td>0.000165</td>\n",
       "      <td>-1.527998</td>\n",
       "      <td>1</td>\n",
       "      <td>1</td>\n",
       "      <td>0</td>\n",
       "      <td>0</td>\n",
       "      <td>1</td>\n",
       "      <td>0</td>\n",
       "      <td>1</td>\n",
       "      <td>0</td>\n",
       "      <td>1</td>\n",
       "      <td>1</td>\n",
       "      <td>0</td>\n",
       "    </tr>\n",
       "    <tr>\n",
       "      <th>1</th>\n",
       "      <td>-0.490457</td>\n",
       "      <td>7.523048e-09</td>\n",
       "      <td>-0.284076</td>\n",
       "      <td>-0.141739</td>\n",
       "      <td>-1.601007</td>\n",
       "      <td>7.502063</td>\n",
       "      <td>-0.007065</td>\n",
       "      <td>1</td>\n",
       "      <td>1</td>\n",
       "      <td>0</td>\n",
       "      <td>0</td>\n",
       "      <td>1</td>\n",
       "      <td>0</td>\n",
       "      <td>1</td>\n",
       "      <td>0</td>\n",
       "      <td>1</td>\n",
       "      <td>0</td>\n",
       "      <td>1</td>\n",
       "    </tr>\n",
       "    <tr>\n",
       "      <th>2</th>\n",
       "      <td>0.350246</td>\n",
       "      <td>-1.036336e+00</td>\n",
       "      <td>-0.090748</td>\n",
       "      <td>-1.728149</td>\n",
       "      <td>-1.588122</td>\n",
       "      <td>-0.449186</td>\n",
       "      <td>-1.527998</td>\n",
       "      <td>1</td>\n",
       "      <td>1</td>\n",
       "      <td>0</td>\n",
       "      <td>0</td>\n",
       "      <td>1</td>\n",
       "      <td>0</td>\n",
       "      <td>1</td>\n",
       "      <td>1</td>\n",
       "      <td>0</td>\n",
       "      <td>0</td>\n",
       "      <td>1</td>\n",
       "    </tr>\n",
       "    <tr>\n",
       "      <th>3</th>\n",
       "      <td>-0.910808</td>\n",
       "      <td>-5.455595e-01</td>\n",
       "      <td>0.489237</td>\n",
       "      <td>0.084892</td>\n",
       "      <td>-1.588122</td>\n",
       "      <td>-0.485257</td>\n",
       "      <td>-1.527998</td>\n",
       "      <td>1</td>\n",
       "      <td>1</td>\n",
       "      <td>0</td>\n",
       "      <td>1</td>\n",
       "      <td>0</td>\n",
       "      <td>0</td>\n",
       "      <td>1</td>\n",
       "      <td>0</td>\n",
       "      <td>1</td>\n",
       "      <td>0</td>\n",
       "      <td>1</td>\n",
       "    </tr>\n",
       "    <tr>\n",
       "      <th>4</th>\n",
       "      <td>0.350246</td>\n",
       "      <td>6.507077e-01</td>\n",
       "      <td>1.262550</td>\n",
       "      <td>-4.674340</td>\n",
       "      <td>-1.575238</td>\n",
       "      <td>-0.434757</td>\n",
       "      <td>-1.527998</td>\n",
       "      <td>1</td>\n",
       "      <td>0</td>\n",
       "      <td>1</td>\n",
       "      <td>1</td>\n",
       "      <td>0</td>\n",
       "      <td>1</td>\n",
       "      <td>0</td>\n",
       "      <td>0</td>\n",
       "      <td>1</td>\n",
       "      <td>0</td>\n",
       "      <td>1</td>\n",
       "    </tr>\n",
       "    <tr>\n",
       "      <th>...</th>\n",
       "      <td>...</td>\n",
       "      <td>...</td>\n",
       "      <td>...</td>\n",
       "      <td>...</td>\n",
       "      <td>...</td>\n",
       "      <td>...</td>\n",
       "      <td>...</td>\n",
       "      <td>...</td>\n",
       "      <td>...</td>\n",
       "      <td>...</td>\n",
       "      <td>...</td>\n",
       "      <td>...</td>\n",
       "      <td>...</td>\n",
       "      <td>...</td>\n",
       "      <td>...</td>\n",
       "      <td>...</td>\n",
       "      <td>...</td>\n",
       "      <td>...</td>\n",
       "    </tr>\n",
       "    <tr>\n",
       "      <th>294</th>\n",
       "      <td>0.098035</td>\n",
       "      <td>-1.107907e+00</td>\n",
       "      <td>-0.284076</td>\n",
       "      <td>1.444672</td>\n",
       "      <td>1.800432</td>\n",
       "      <td>-0.536789</td>\n",
       "      <td>-0.007065</td>\n",
       "      <td>0</td>\n",
       "      <td>1</td>\n",
       "      <td>0</td>\n",
       "      <td>0</td>\n",
       "      <td>1</td>\n",
       "      <td>1</td>\n",
       "      <td>0</td>\n",
       "      <td>1</td>\n",
       "      <td>0</td>\n",
       "      <td>1</td>\n",
       "      <td>0</td>\n",
       "    </tr>\n",
       "    <tr>\n",
       "      <th>295</th>\n",
       "      <td>-0.490457</td>\n",
       "      <td>6.791087e-02</td>\n",
       "      <td>-0.187412</td>\n",
       "      <td>0.538152</td>\n",
       "      <td>1.813317</td>\n",
       "      <td>1.276075</td>\n",
       "      <td>-0.007065</td>\n",
       "      <td>0</td>\n",
       "      <td>0</td>\n",
       "      <td>1</td>\n",
       "      <td>0</td>\n",
       "      <td>1</td>\n",
       "      <td>0</td>\n",
       "      <td>1</td>\n",
       "      <td>0</td>\n",
       "      <td>1</td>\n",
       "      <td>0</td>\n",
       "      <td>1</td>\n",
       "    </tr>\n",
       "    <tr>\n",
       "      <th>296</th>\n",
       "      <td>-1.331160</td>\n",
       "      <td>4.893878e+00</td>\n",
       "      <td>-0.574068</td>\n",
       "      <td>0.311522</td>\n",
       "      <td>1.903506</td>\n",
       "      <td>1.523425</td>\n",
       "      <td>1.851853</td>\n",
       "      <td>0</td>\n",
       "      <td>0</td>\n",
       "      <td>1</td>\n",
       "      <td>0</td>\n",
       "      <td>1</td>\n",
       "      <td>1</td>\n",
       "      <td>0</td>\n",
       "      <td>0</td>\n",
       "      <td>1</td>\n",
       "      <td>0</td>\n",
       "      <td>1</td>\n",
       "    </tr>\n",
       "    <tr>\n",
       "      <th>297</th>\n",
       "      <td>-1.331160</td>\n",
       "      <td>-1.261275e+00</td>\n",
       "      <td>0.005916</td>\n",
       "      <td>0.764782</td>\n",
       "      <td>1.929275</td>\n",
       "      <td>1.887234</td>\n",
       "      <td>-0.007065</td>\n",
       "      <td>0</td>\n",
       "      <td>1</td>\n",
       "      <td>0</td>\n",
       "      <td>0</td>\n",
       "      <td>1</td>\n",
       "      <td>0</td>\n",
       "      <td>1</td>\n",
       "      <td>1</td>\n",
       "      <td>0</td>\n",
       "      <td>0</td>\n",
       "      <td>1</td>\n",
       "    </tr>\n",
       "    <tr>\n",
       "      <th>298</th>\n",
       "      <td>-0.910808</td>\n",
       "      <td>1.345974e+00</td>\n",
       "      <td>0.199244</td>\n",
       "      <td>-0.141739</td>\n",
       "      <td>1.993696</td>\n",
       "      <td>-0.397655</td>\n",
       "      <td>0.584409</td>\n",
       "      <td>0</td>\n",
       "      <td>1</td>\n",
       "      <td>0</td>\n",
       "      <td>0</td>\n",
       "      <td>1</td>\n",
       "      <td>0</td>\n",
       "      <td>1</td>\n",
       "      <td>1</td>\n",
       "      <td>0</td>\n",
       "      <td>0</td>\n",
       "      <td>1</td>\n",
       "    </tr>\n",
       "  </tbody>\n",
       "</table>\n",
       "<p>299 rows × 18 columns</p>\n",
       "</div>"
      ],
      "text/plain": [
       "          age     platelets  serum_creatinine  serum_sodium      time  \\\n",
       "0    1.190949  1.678834e-02          0.489237     -1.501519 -1.626775   \n",
       "1   -0.490457  7.523048e-09         -0.284076     -0.141739 -1.601007   \n",
       "2    0.350246 -1.036336e+00         -0.090748     -1.728149 -1.588122   \n",
       "3   -0.910808 -5.455595e-01          0.489237      0.084892 -1.588122   \n",
       "4    0.350246  6.507077e-01          1.262550     -4.674340 -1.575238   \n",
       "..        ...           ...               ...           ...       ...   \n",
       "294  0.098035 -1.107907e+00         -0.284076      1.444672  1.800432   \n",
       "295 -0.490457  6.791087e-02         -0.187412      0.538152  1.813317   \n",
       "296 -1.331160  4.893878e+00         -0.574068      0.311522  1.903506   \n",
       "297 -1.331160 -1.261275e+00          0.005916      0.764782  1.929275   \n",
       "298 -0.910808  1.345974e+00          0.199244     -0.141739  1.993696   \n",
       "\n",
       "          CPK        FE  DEATH  male  female  c_anaemia  s_anaemia  \\\n",
       "0    0.000165 -1.527998      1     1       0          0          1   \n",
       "1    7.502063 -0.007065      1     1       0          0          1   \n",
       "2   -0.449186 -1.527998      1     1       0          0          1   \n",
       "3   -0.485257 -1.527998      1     1       0          1          0   \n",
       "4   -0.434757 -1.527998      1     0       1          1          0   \n",
       "..        ...       ...    ...   ...     ...        ...        ...   \n",
       "294 -0.536789 -0.007065      0     1       0          0          1   \n",
       "295  1.276075 -0.007065      0     0       1          0          1   \n",
       "296  1.523425  1.851853      0     0       1          0          1   \n",
       "297  1.887234 -0.007065      0     1       0          0          1   \n",
       "298 -0.397655  0.584409      0     1       0          0          1   \n",
       "\n",
       "     c_diabetes  s_diabetes  c_smoking  s_smoking  c_pressure  s_pressure  \n",
       "0             0           1          0          1           1           0  \n",
       "1             0           1          0          1           0           1  \n",
       "2             0           1          1          0           0           1  \n",
       "3             0           1          0          1           0           1  \n",
       "4             1           0          0          1           0           1  \n",
       "..          ...         ...        ...        ...         ...         ...  \n",
       "294           1           0          1          0           1           0  \n",
       "295           0           1          0          1           0           1  \n",
       "296           1           0          0          1           0           1  \n",
       "297           0           1          1          0           0           1  \n",
       "298           0           1          1          0           0           1  \n",
       "\n",
       "[299 rows x 18 columns]"
      ]
     },
     "execution_count": 10,
     "metadata": {},
     "output_type": "execute_result"
    }
   ],
   "source": [
    "heart_failure_df"
   ]
  },
  {
   "cell_type": "code",
   "execution_count": 11,
   "id": "2738dc3f",
   "metadata": {
    "execution": {
     "iopub.execute_input": "2025-01-19T20:04:51.054749Z",
     "iopub.status.busy": "2025-01-19T20:04:51.054373Z",
     "iopub.status.idle": "2025-01-19T20:04:51.074006Z",
     "shell.execute_reply": "2025-01-19T20:04:51.072980Z"
    },
    "papermill": {
     "duration": 0.031168,
     "end_time": "2025-01-19T20:04:51.075570",
     "exception": false,
     "start_time": "2025-01-19T20:04:51.044402",
     "status": "completed"
    },
    "tags": []
   },
   "outputs": [
    {
     "data": {
      "text/html": [
       "<div>\n",
       "<style scoped>\n",
       "    .dataframe tbody tr th:only-of-type {\n",
       "        vertical-align: middle;\n",
       "    }\n",
       "\n",
       "    .dataframe tbody tr th {\n",
       "        vertical-align: top;\n",
       "    }\n",
       "\n",
       "    .dataframe thead th {\n",
       "        text-align: right;\n",
       "    }\n",
       "</style>\n",
       "<table border=\"1\" class=\"dataframe\">\n",
       "  <thead>\n",
       "    <tr style=\"text-align: right;\">\n",
       "      <th></th>\n",
       "      <th>age</th>\n",
       "      <th>platelets</th>\n",
       "      <th>serum_creatinine</th>\n",
       "      <th>serum_sodium</th>\n",
       "      <th>time</th>\n",
       "      <th>CPK</th>\n",
       "      <th>FE</th>\n",
       "      <th>DEATH</th>\n",
       "      <th>male</th>\n",
       "      <th>female</th>\n",
       "      <th>c_anaemia</th>\n",
       "      <th>s_anaemia</th>\n",
       "      <th>c_diabetes</th>\n",
       "      <th>s_diabetes</th>\n",
       "      <th>c_smoking</th>\n",
       "      <th>s_smoking</th>\n",
       "      <th>c_pressure</th>\n",
       "      <th>s_pressure</th>\n",
       "    </tr>\n",
       "  </thead>\n",
       "  <tbody>\n",
       "    <tr>\n",
       "      <th>0</th>\n",
       "      <td>1.190949</td>\n",
       "      <td>1.678834e-02</td>\n",
       "      <td>0.489237</td>\n",
       "      <td>-1.501519</td>\n",
       "      <td>-1.626775</td>\n",
       "      <td>0.000165</td>\n",
       "      <td>-1.527998</td>\n",
       "      <td>1</td>\n",
       "      <td>1</td>\n",
       "      <td>0</td>\n",
       "      <td>0</td>\n",
       "      <td>1</td>\n",
       "      <td>0</td>\n",
       "      <td>1</td>\n",
       "      <td>0</td>\n",
       "      <td>1</td>\n",
       "      <td>1</td>\n",
       "      <td>0</td>\n",
       "    </tr>\n",
       "    <tr>\n",
       "      <th>1</th>\n",
       "      <td>-0.490457</td>\n",
       "      <td>7.523048e-09</td>\n",
       "      <td>-0.284076</td>\n",
       "      <td>-0.141739</td>\n",
       "      <td>-1.601007</td>\n",
       "      <td>7.502063</td>\n",
       "      <td>-0.007065</td>\n",
       "      <td>1</td>\n",
       "      <td>1</td>\n",
       "      <td>0</td>\n",
       "      <td>0</td>\n",
       "      <td>1</td>\n",
       "      <td>0</td>\n",
       "      <td>1</td>\n",
       "      <td>0</td>\n",
       "      <td>1</td>\n",
       "      <td>0</td>\n",
       "      <td>1</td>\n",
       "    </tr>\n",
       "    <tr>\n",
       "      <th>2</th>\n",
       "      <td>0.350246</td>\n",
       "      <td>-1.036336e+00</td>\n",
       "      <td>-0.090748</td>\n",
       "      <td>-1.728149</td>\n",
       "      <td>-1.588122</td>\n",
       "      <td>-0.449186</td>\n",
       "      <td>-1.527998</td>\n",
       "      <td>1</td>\n",
       "      <td>1</td>\n",
       "      <td>0</td>\n",
       "      <td>0</td>\n",
       "      <td>1</td>\n",
       "      <td>0</td>\n",
       "      <td>1</td>\n",
       "      <td>1</td>\n",
       "      <td>0</td>\n",
       "      <td>0</td>\n",
       "      <td>1</td>\n",
       "    </tr>\n",
       "    <tr>\n",
       "      <th>3</th>\n",
       "      <td>-0.910808</td>\n",
       "      <td>-5.455595e-01</td>\n",
       "      <td>0.489237</td>\n",
       "      <td>0.084892</td>\n",
       "      <td>-1.588122</td>\n",
       "      <td>-0.485257</td>\n",
       "      <td>-1.527998</td>\n",
       "      <td>1</td>\n",
       "      <td>1</td>\n",
       "      <td>0</td>\n",
       "      <td>1</td>\n",
       "      <td>0</td>\n",
       "      <td>0</td>\n",
       "      <td>1</td>\n",
       "      <td>0</td>\n",
       "      <td>1</td>\n",
       "      <td>0</td>\n",
       "      <td>1</td>\n",
       "    </tr>\n",
       "    <tr>\n",
       "      <th>4</th>\n",
       "      <td>0.350246</td>\n",
       "      <td>6.507077e-01</td>\n",
       "      <td>1.262550</td>\n",
       "      <td>-4.674340</td>\n",
       "      <td>-1.575238</td>\n",
       "      <td>-0.434757</td>\n",
       "      <td>-1.527998</td>\n",
       "      <td>1</td>\n",
       "      <td>0</td>\n",
       "      <td>1</td>\n",
       "      <td>1</td>\n",
       "      <td>0</td>\n",
       "      <td>1</td>\n",
       "      <td>0</td>\n",
       "      <td>0</td>\n",
       "      <td>1</td>\n",
       "      <td>0</td>\n",
       "      <td>1</td>\n",
       "    </tr>\n",
       "    <tr>\n",
       "      <th>...</th>\n",
       "      <td>...</td>\n",
       "      <td>...</td>\n",
       "      <td>...</td>\n",
       "      <td>...</td>\n",
       "      <td>...</td>\n",
       "      <td>...</td>\n",
       "      <td>...</td>\n",
       "      <td>...</td>\n",
       "      <td>...</td>\n",
       "      <td>...</td>\n",
       "      <td>...</td>\n",
       "      <td>...</td>\n",
       "      <td>...</td>\n",
       "      <td>...</td>\n",
       "      <td>...</td>\n",
       "      <td>...</td>\n",
       "      <td>...</td>\n",
       "      <td>...</td>\n",
       "    </tr>\n",
       "    <tr>\n",
       "      <th>294</th>\n",
       "      <td>0.098035</td>\n",
       "      <td>-1.107907e+00</td>\n",
       "      <td>-0.284076</td>\n",
       "      <td>1.444672</td>\n",
       "      <td>1.800432</td>\n",
       "      <td>-0.536789</td>\n",
       "      <td>-0.007065</td>\n",
       "      <td>0</td>\n",
       "      <td>1</td>\n",
       "      <td>0</td>\n",
       "      <td>0</td>\n",
       "      <td>1</td>\n",
       "      <td>1</td>\n",
       "      <td>0</td>\n",
       "      <td>1</td>\n",
       "      <td>0</td>\n",
       "      <td>1</td>\n",
       "      <td>0</td>\n",
       "    </tr>\n",
       "    <tr>\n",
       "      <th>295</th>\n",
       "      <td>-0.490457</td>\n",
       "      <td>6.791087e-02</td>\n",
       "      <td>-0.187412</td>\n",
       "      <td>0.538152</td>\n",
       "      <td>1.813317</td>\n",
       "      <td>1.276075</td>\n",
       "      <td>-0.007065</td>\n",
       "      <td>0</td>\n",
       "      <td>0</td>\n",
       "      <td>1</td>\n",
       "      <td>0</td>\n",
       "      <td>1</td>\n",
       "      <td>0</td>\n",
       "      <td>1</td>\n",
       "      <td>0</td>\n",
       "      <td>1</td>\n",
       "      <td>0</td>\n",
       "      <td>1</td>\n",
       "    </tr>\n",
       "    <tr>\n",
       "      <th>296</th>\n",
       "      <td>-1.331160</td>\n",
       "      <td>4.893878e+00</td>\n",
       "      <td>-0.574068</td>\n",
       "      <td>0.311522</td>\n",
       "      <td>1.903506</td>\n",
       "      <td>1.523425</td>\n",
       "      <td>1.851853</td>\n",
       "      <td>0</td>\n",
       "      <td>0</td>\n",
       "      <td>1</td>\n",
       "      <td>0</td>\n",
       "      <td>1</td>\n",
       "      <td>1</td>\n",
       "      <td>0</td>\n",
       "      <td>0</td>\n",
       "      <td>1</td>\n",
       "      <td>0</td>\n",
       "      <td>1</td>\n",
       "    </tr>\n",
       "    <tr>\n",
       "      <th>297</th>\n",
       "      <td>-1.331160</td>\n",
       "      <td>-1.261275e+00</td>\n",
       "      <td>0.005916</td>\n",
       "      <td>0.764782</td>\n",
       "      <td>1.929275</td>\n",
       "      <td>1.887234</td>\n",
       "      <td>-0.007065</td>\n",
       "      <td>0</td>\n",
       "      <td>1</td>\n",
       "      <td>0</td>\n",
       "      <td>0</td>\n",
       "      <td>1</td>\n",
       "      <td>0</td>\n",
       "      <td>1</td>\n",
       "      <td>1</td>\n",
       "      <td>0</td>\n",
       "      <td>0</td>\n",
       "      <td>1</td>\n",
       "    </tr>\n",
       "    <tr>\n",
       "      <th>298</th>\n",
       "      <td>-0.910808</td>\n",
       "      <td>1.345974e+00</td>\n",
       "      <td>0.199244</td>\n",
       "      <td>-0.141739</td>\n",
       "      <td>1.993696</td>\n",
       "      <td>-0.397655</td>\n",
       "      <td>0.584409</td>\n",
       "      <td>0</td>\n",
       "      <td>1</td>\n",
       "      <td>0</td>\n",
       "      <td>0</td>\n",
       "      <td>1</td>\n",
       "      <td>0</td>\n",
       "      <td>1</td>\n",
       "      <td>1</td>\n",
       "      <td>0</td>\n",
       "      <td>0</td>\n",
       "      <td>1</td>\n",
       "    </tr>\n",
       "  </tbody>\n",
       "</table>\n",
       "<p>299 rows × 18 columns</p>\n",
       "</div>"
      ],
      "text/plain": [
       "          age     platelets  serum_creatinine  serum_sodium      time  \\\n",
       "0    1.190949  1.678834e-02          0.489237     -1.501519 -1.626775   \n",
       "1   -0.490457  7.523048e-09         -0.284076     -0.141739 -1.601007   \n",
       "2    0.350246 -1.036336e+00         -0.090748     -1.728149 -1.588122   \n",
       "3   -0.910808 -5.455595e-01          0.489237      0.084892 -1.588122   \n",
       "4    0.350246  6.507077e-01          1.262550     -4.674340 -1.575238   \n",
       "..        ...           ...               ...           ...       ...   \n",
       "294  0.098035 -1.107907e+00         -0.284076      1.444672  1.800432   \n",
       "295 -0.490457  6.791087e-02         -0.187412      0.538152  1.813317   \n",
       "296 -1.331160  4.893878e+00         -0.574068      0.311522  1.903506   \n",
       "297 -1.331160 -1.261275e+00          0.005916      0.764782  1.929275   \n",
       "298 -0.910808  1.345974e+00          0.199244     -0.141739  1.993696   \n",
       "\n",
       "          CPK        FE  DEATH  male  female  c_anaemia  s_anaemia  \\\n",
       "0    0.000165 -1.527998      1     1       0          0          1   \n",
       "1    7.502063 -0.007065      1     1       0          0          1   \n",
       "2   -0.449186 -1.527998      1     1       0          0          1   \n",
       "3   -0.485257 -1.527998      1     1       0          1          0   \n",
       "4   -0.434757 -1.527998      1     0       1          1          0   \n",
       "..        ...       ...    ...   ...     ...        ...        ...   \n",
       "294 -0.536789 -0.007065      0     1       0          0          1   \n",
       "295  1.276075 -0.007065      0     0       1          0          1   \n",
       "296  1.523425  1.851853      0     0       1          0          1   \n",
       "297  1.887234 -0.007065      0     1       0          0          1   \n",
       "298 -0.397655  0.584409      0     1       0          0          1   \n",
       "\n",
       "     c_diabetes  s_diabetes  c_smoking  s_smoking  c_pressure  s_pressure  \n",
       "0             0           1          0          1           1           0  \n",
       "1             0           1          0          1           0           1  \n",
       "2             0           1          1          0           0           1  \n",
       "3             0           1          0          1           0           1  \n",
       "4             1           0          0          1           0           1  \n",
       "..          ...         ...        ...        ...         ...         ...  \n",
       "294           1           0          1          0           1           0  \n",
       "295           0           1          0          1           0           1  \n",
       "296           1           0          0          1           0           1  \n",
       "297           0           1          1          0           0           1  \n",
       "298           0           1          1          0           0           1  \n",
       "\n",
       "[299 rows x 18 columns]"
      ]
     },
     "execution_count": 11,
     "metadata": {},
     "output_type": "execute_result"
    }
   ],
   "source": [
    "heart_failure_df"
   ]
  },
  {
   "cell_type": "markdown",
   "id": "0190eaf9",
   "metadata": {
    "papermill": {
     "duration": 0.009556,
     "end_time": "2025-01-19T20:04:51.094975",
     "exception": false,
     "start_time": "2025-01-19T20:04:51.085419",
     "status": "completed"
    },
    "tags": []
   },
   "source": [
    "**Treinando o modelo como 0.3 da base.**"
   ]
  },
  {
   "cell_type": "code",
   "execution_count": 12,
   "id": "c7dcf8ee",
   "metadata": {
    "execution": {
     "iopub.execute_input": "2025-01-19T20:04:51.115475Z",
     "iopub.status.busy": "2025-01-19T20:04:51.115105Z",
     "iopub.status.idle": "2025-01-19T20:04:51.125213Z",
     "shell.execute_reply": "2025-01-19T20:04:51.124152Z"
    },
    "papermill": {
     "duration": 0.022058,
     "end_time": "2025-01-19T20:04:51.126626",
     "exception": false,
     "start_time": "2025-01-19T20:04:51.104568",
     "status": "completed"
    },
    "tags": []
   },
   "outputs": [],
   "source": [
    "predictors_train, predictors_test, target_train, target_test = train_test_split(\n",
    "    heart_failure_df.drop(['DEATH'], axis=1),\n",
    "    heart_failure_df['DEATH'],\n",
    "    test_size=0.3,  \n",
    "    random_state=123\n",
    ")"
   ]
  },
  {
   "cell_type": "markdown",
   "id": "94b8dba2",
   "metadata": {
    "papermill": {
     "duration": 0.009189,
     "end_time": "2025-01-19T20:04:51.145394",
     "exception": false,
     "start_time": "2025-01-19T20:04:51.136205",
     "status": "completed"
    },
    "tags": []
   },
   "source": [
    "**Alimentando o modelo com dados de treino.**"
   ]
  },
  {
   "cell_type": "code",
   "execution_count": 13,
   "id": "6d7ebb9e",
   "metadata": {
    "execution": {
     "iopub.execute_input": "2025-01-19T20:04:51.165784Z",
     "iopub.status.busy": "2025-01-19T20:04:51.165458Z",
     "iopub.status.idle": "2025-01-19T20:04:51.189385Z",
     "shell.execute_reply": "2025-01-19T20:04:51.188404Z"
    },
    "papermill": {
     "duration": 0.035824,
     "end_time": "2025-01-19T20:04:51.190939",
     "exception": false,
     "start_time": "2025-01-19T20:04:51.155115",
     "status": "completed"
    },
    "tags": []
   },
   "outputs": [
    {
     "data": {
      "text/plain": [
       "{'penalty': 'l2',\n",
       " 'dual': False,\n",
       " 'tol': 0.0001,\n",
       " 'C': 1.0,\n",
       " 'fit_intercept': True,\n",
       " 'intercept_scaling': 1,\n",
       " 'class_weight': None,\n",
       " 'random_state': None,\n",
       " 'solver': 'lbfgs',\n",
       " 'max_iter': 100,\n",
       " 'multi_class': 'auto',\n",
       " 'verbose': 0,\n",
       " 'warm_start': False,\n",
       " 'n_jobs': None,\n",
       " 'l1_ratio': None,\n",
       " 'feature_names_in_': array(['age', 'platelets', 'serum_creatinine', 'serum_sodium', 'time',\n",
       "        'CPK', 'FE', 'male', 'female', 'c_anaemia', 's_anaemia',\n",
       "        'c_diabetes', 's_diabetes', 'c_smoking', 's_smoking', 'c_pressure',\n",
       "        's_pressure'], dtype=object),\n",
       " 'n_features_in_': 17,\n",
       " 'classes_': array([0, 1]),\n",
       " 'n_iter_': array([21], dtype=int32),\n",
       " 'coef_': array([[ 5.16592609e-01, -2.58585088e-01,  5.08862214e-01,\n",
       "         -2.33054893e-01, -1.81441470e+00,  1.43660491e-01,\n",
       "         -7.80457410e-01, -3.83235452e-01,  3.83227611e-01,\n",
       "         -1.66306640e-01,  1.66298799e-01,  1.67611581e-03,\n",
       "         -1.68395674e-03, -1.05914492e-01,  1.05906651e-01,\n",
       "         -2.83783750e-02,  2.83705341e-02]]),\n",
       " 'intercept_': array([-1.5991033])}"
      ]
     },
     "execution_count": 13,
     "metadata": {},
     "output_type": "execute_result"
    }
   ],
   "source": [
    "model = LogisticRegression()\n",
    "model_v2=model.fit(predictors_train, target_train)\n",
    "target_predicted = model.predict(predictors_test)\n",
    "model.__dict__"
   ]
  },
  {
   "cell_type": "markdown",
   "id": "48dadca9",
   "metadata": {
    "papermill": {
     "duration": 0.009365,
     "end_time": "2025-01-19T20:04:51.209959",
     "exception": false,
     "start_time": "2025-01-19T20:04:51.200594",
     "status": "completed"
    },
    "tags": []
   },
   "source": [
    "**Validando a acurácia do modelo.**"
   ]
  },
  {
   "cell_type": "code",
   "execution_count": 14,
   "id": "1b41ceec",
   "metadata": {
    "execution": {
     "iopub.execute_input": "2025-01-19T20:04:51.230826Z",
     "iopub.status.busy": "2025-01-19T20:04:51.230385Z",
     "iopub.status.idle": "2025-01-19T20:04:51.245593Z",
     "shell.execute_reply": "2025-01-19T20:04:51.244551Z"
    },
    "papermill": {
     "duration": 0.027353,
     "end_time": "2025-01-19T20:04:51.247127",
     "exception": false,
     "start_time": "2025-01-19T20:04:51.219774",
     "status": "completed"
    },
    "tags": []
   },
   "outputs": [
    {
     "name": "stdout",
     "output_type": "stream",
     "text": [
      "Accuracy: 0.7888888888888889\n",
      "F1 Score: 0.6984126984126985\n",
      "AUC-ROC: 0.7595614482406936\n"
     ]
    }
   ],
   "source": [
    "print(\"Accuracy:\", accuracy_score(target_test, target_predicted))\n",
    "print(\"F1 Score:\", f1_score(target_test, target_predicted))\n",
    "print(\"AUC-ROC:\", roc_auc_score(target_test, target_predicted))"
   ]
  },
  {
   "cell_type": "code",
   "execution_count": 15,
   "id": "209d29c4",
   "metadata": {
    "execution": {
     "iopub.execute_input": "2025-01-19T20:04:51.267806Z",
     "iopub.status.busy": "2025-01-19T20:04:51.267444Z",
     "iopub.status.idle": "2025-01-19T20:04:51.273250Z",
     "shell.execute_reply": "2025-01-19T20:04:51.272213Z"
    },
    "papermill": {
     "duration": 0.017948,
     "end_time": "2025-01-19T20:04:51.274867",
     "exception": false,
     "start_time": "2025-01-19T20:04:51.256919",
     "status": "completed"
    },
    "tags": []
   },
   "outputs": [
    {
     "data": {
      "text/plain": [
       "Index(['age', 'platelets', 'serum_creatinine', 'serum_sodium', 'time', 'CPK',\n",
       "       'FE', 'DEATH', 'male', 'female', 'c_anaemia', 's_anaemia', 'c_diabetes',\n",
       "       's_diabetes', 'c_smoking', 's_smoking', 'c_pressure', 's_pressure'],\n",
       "      dtype='object')"
      ]
     },
     "execution_count": 15,
     "metadata": {},
     "output_type": "execute_result"
    }
   ],
   "source": [
    " heart_failure_df.columns"
   ]
  },
  {
   "cell_type": "code",
   "execution_count": 16,
   "id": "bd1b2507",
   "metadata": {
    "execution": {
     "iopub.execute_input": "2025-01-19T20:04:51.295788Z",
     "iopub.status.busy": "2025-01-19T20:04:51.295414Z",
     "iopub.status.idle": "2025-01-19T20:04:51.301369Z",
     "shell.execute_reply": "2025-01-19T20:04:51.300270Z"
    },
    "papermill": {
     "duration": 0.018414,
     "end_time": "2025-01-19T20:04:51.303111",
     "exception": false,
     "start_time": "2025-01-19T20:04:51.284697",
     "status": "completed"
    },
    "tags": []
   },
   "outputs": [],
   "source": [
    "novo_dado = [60, 250000, 1.0, 130, 4, 120, 20, 1, 0, 0, 1, 0, 1, 1, 0,1,0]\n",
    "\n",
    "novo_dado[0] = (novo_dado[0] - media_1) / desvio_padrao_1  # age\n",
    "novo_dado[1] = (novo_dado[1] - media_2) / desvio_padrao_2  # CPK\n",
    "novo_dado[2] = (novo_dado[2] - media_3) / desvio_padrao_3  # FE\n",
    "novo_dado[3] = (novo_dado[3] - media_4) / desvio_padrao_4  # platelets\n",
    "novo_dado[4] = (novo_dado[4] - media_5) / desvio_padrao_5  # serum_creatinine\n",
    "novo_dado[5] = (novo_dado[5] - media_6) / desvio_padrao_6  # serum_sodium\n",
    "novo_dado[6] = (novo_dado[6] - media_7) / desvio_padrao_7  # time"
   ]
  },
  {
   "cell_type": "code",
   "execution_count": 17,
   "id": "c63e7ac2",
   "metadata": {
    "execution": {
     "iopub.execute_input": "2025-01-19T20:04:51.323928Z",
     "iopub.status.busy": "2025-01-19T20:04:51.323561Z",
     "iopub.status.idle": "2025-01-19T20:04:51.327637Z",
     "shell.execute_reply": "2025-01-19T20:04:51.326649Z"
    },
    "papermill": {
     "duration": 0.016119,
     "end_time": "2025-01-19T20:04:51.329159",
     "exception": false,
     "start_time": "2025-01-19T20:04:51.313040",
     "status": "completed"
    },
    "tags": []
   },
   "outputs": [],
   "source": [
    "individuo = np.array([novo_dado])"
   ]
  },
  {
   "cell_type": "code",
   "execution_count": 18,
   "id": "5eb48d6f",
   "metadata": {
    "execution": {
     "iopub.execute_input": "2025-01-19T20:04:51.350591Z",
     "iopub.status.busy": "2025-01-19T20:04:51.350233Z",
     "iopub.status.idle": "2025-01-19T20:04:51.355176Z",
     "shell.execute_reply": "2025-01-19T20:04:51.354102Z"
    },
    "papermill": {
     "duration": 0.017082,
     "end_time": "2025-01-19T20:04:51.356631",
     "exception": false,
     "start_time": "2025-01-19T20:04:51.339549",
     "status": "completed"
    },
    "tags": []
   },
   "outputs": [
    {
     "name": "stdout",
     "output_type": "stream",
     "text": [
      "Index(['age', 'platelets', 'serum_creatinine', 'serum_sodium', 'time', 'CPK',\n",
      "       'FE', 'male', 'female', 'c_anaemia', 's_anaemia', 'c_diabetes',\n",
      "       's_diabetes', 'c_smoking', 's_smoking', 'c_pressure', 's_pressure'],\n",
      "      dtype='object')\n"
     ]
    }
   ],
   "source": [
    "print(predictors_train.columns)"
   ]
  },
  {
   "cell_type": "code",
   "execution_count": 19,
   "id": "a42e8ed8",
   "metadata": {
    "execution": {
     "iopub.execute_input": "2025-01-19T20:04:51.377415Z",
     "iopub.status.busy": "2025-01-19T20:04:51.377073Z",
     "iopub.status.idle": "2025-01-19T20:04:51.386980Z",
     "shell.execute_reply": "2025-01-19T20:04:51.385963Z"
    },
    "papermill": {
     "duration": 0.022178,
     "end_time": "2025-01-19T20:04:51.388632",
     "exception": false,
     "start_time": "2025-01-19T20:04:51.366454",
     "status": "completed"
    },
    "tags": []
   },
   "outputs": [
    {
     "name": "stdout",
     "output_type": "stream",
     "text": [
      "Classe prevista (risco): 0\n",
      "Probabilidade por classe: [1.00000000e+00 1.28794741e-32]\n"
     ]
    }
   ],
   "source": [
    "individuo_df = pd.DataFrame([novo_dado], columns=predictors_train.columns)\n",
    "\n",
    "# Previsão do risco de morte\n",
    "risco = model_v2.predict(individuo_df)\n",
    "probabilidade = model_v2.predict_proba(individuo_df)\n",
    "\n",
    "print(\"Classe prevista (risco):\", risco[0])\n",
    "print(\"Probabilidade por classe:\", probabilidade[0])"
   ]
  },
  {
   "cell_type": "markdown",
   "id": "0487dca5",
   "metadata": {
    "papermill": {
     "duration": 0.0096,
     "end_time": "2025-01-19T20:04:51.408300",
     "exception": false,
     "start_time": "2025-01-19T20:04:51.398700",
     "status": "completed"
    },
    "tags": []
   },
   "source": [
    "## Conclusão\n",
    "\n",
    "Com base nos resultados, o modelo prevê que o paciente não tem risco de falência cardíaca. A probabilidade de que ele tenha algum risco é praticamente zero, de acordo com as características fornecidas. \n",
    "No entanto, é importante lembrar que, embora a previsão seja clara, ela depende de muitos fatores, como a qualidade e quantidade dos dados além da eficácia do modelo."
   ]
  }
 ],
 "metadata": {
  "kaggle": {
   "accelerator": "none",
   "dataSources": [
    {
     "datasetId": 727551,
     "sourceId": 1263738,
     "sourceType": "datasetVersion"
    }
   ],
   "dockerImageVersionId": 30839,
   "isGpuEnabled": false,
   "isInternetEnabled": true,
   "language": "python",
   "sourceType": "notebook"
  },
  "kernelspec": {
   "display_name": "Python 3",
   "language": "python",
   "name": "python3"
  },
  "language_info": {
   "codemirror_mode": {
    "name": "ipython",
    "version": 3
   },
   "file_extension": ".py",
   "mimetype": "text/x-python",
   "name": "python",
   "nbconvert_exporter": "python",
   "pygments_lexer": "ipython3",
   "version": "3.10.12"
  },
  "papermill": {
   "default_parameters": {},
   "duration": 9.263916,
   "end_time": "2025-01-19T20:04:52.138851",
   "environment_variables": {},
   "exception": null,
   "input_path": "__notebook__.ipynb",
   "output_path": "__notebook__.ipynb",
   "parameters": {},
   "start_time": "2025-01-19T20:04:42.874935",
   "version": "2.6.0"
  }
 },
 "nbformat": 4,
 "nbformat_minor": 5
}
